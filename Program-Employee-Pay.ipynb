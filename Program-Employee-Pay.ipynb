{
 "cells": [
  {
   "cell_type": "markdown",
   "metadata": {},
   "source": [
    "# Program: employeepay.py\n",
    "Project 2.10\n",
    "\"\"\" \n",
    "Compute an employee's total weekly pay.\n",
    "\n",
    "Useful facts:\n",
    "    An employee's total weekly pay equals the hourly wage multipled by the total number of regular hours plus overtime pay. \n",
    "    Overtime pay equals the total overtime hours multiplied by 1.5 times the hourly wage\n",
    "    \n",
    "Write a program that takes an inputs the hourly wage, total regualr hous, and total overtime hours and \n",
    "displays an employee's total weekly pay.\n",
    "\n",
    "\"\"\""
   ]
  },
  {
   "cell_type": "code",
   "execution_count": 5,
   "metadata": {},
   "outputs": [
    {
     "name": "stdout",
     "output_type": "stream",
     "text": [
      "Enter the wage: $20\n",
      "Enter the regular hours: 40\n",
      "Enter the overtime hours: 10\n",
      "The total weekly is $1100.0\n"
     ]
    }
   ],
   "source": [
    "# Request the inputs\n",
    "wage = float(input(\"Enter the wage: $\"))\n",
    "regularHours = float(input(\"Enter the regular hours: \"))\n",
    "overtimeHours = float(input(\"Enter the overtime hours: \"))\n",
    "\n",
    "standardPay = (wage * regularHours)\n",
    "overtimePay = overtimeHours * (wage*1.5)\n",
    "totalPay = standardPay + overtimePay\n",
    "\n",
    "# Compute the result\n",
    "\n",
    "#Display the result\n",
    "print(\"The total weekly is $\" + str(round(totalPay, 2)))"
   ]
  }
 ],
 "metadata": {
  "kernelspec": {
   "display_name": "Python 3",
   "language": "python",
   "name": "python3"
  },
  "language_info": {
   "codemirror_mode": {
    "name": "ipython",
    "version": 3
   },
   "file_extension": ".py",
   "mimetype": "text/x-python",
   "name": "python",
   "nbconvert_exporter": "python",
   "pygments_lexer": "ipython3",
   "version": "3.7.3"
  }
 },
 "nbformat": 4,
 "nbformat_minor": 2
}
