{
 "cells": [
  {
   "cell_type": "markdown",
   "metadata": {},
   "source": [
    "##Exercise Using Python Dictionary\n",
    "\n",
    "So, let's use the dictionary in a program.\n",
    "Create a program that will prompt the user to enter an amount. When the user enters the amount, the program will respond with the text spelling out of the amount. For example, the user enters '10', the program responds with 'ten'.\n",
    "If the user enters an amount that the program does not have stored then the program shall prompt the user to enter the text. So if the user enters '201' and the program doesn't know that value then the program will prompt the user to type in the text, 'two-hundred one'.\n",
    "Once the user types in the text, the program shall store the text in a dictionary. This will enable the program to quickly locate the value the next time the user enters it.\n",
    "\n",
    "Expected Output:\n",
    "\n",
    "Enter a number or press (q) to quit: 10\n",
    "Enter the value or press (q) to quit: Ten\n",
    "Enter a number or press (q) to quit: 10\n",
    "You have entered Ten\n",
    "Enter a number or press (q) to quit: 20\n",
    "Enter the value or press (q) to quit: Twenty\n",
    "Enter a number or press (q) to quit: 40\n",
    "Enter the value or press (q) to quit: Forty\n",
    "Enter a number or press (q) to quit: q\n",
    "\n",
    "Here are the values you have entered:\n",
    "10 Ten\n",
    "20 Twenty\n",
    "40 Forty"
   ]
  },
  {
   "cell_type": "code",
   "execution_count": 1,
   "metadata": {},
   "outputs": [
    {
     "data": {
      "text/plain": [
       "{'0': 'Zero',\n",
       " '10': 'Ten',\n",
       " '20': 'Twenty',\n",
       " '30': 'Thirty',\n",
       " '40': 'Forty',\n",
       " '50': 'Fifty',\n",
       " '60': 'Sixty',\n",
       " '70': 'Seventy',\n",
       " '80': 'Eighty',\n",
       " '90': 'Ninety',\n",
       " '100': 'One Hundred'}"
      ]
     },
     "execution_count": 1,
     "metadata": {},
     "output_type": "execute_result"
    }
   ],
   "source": [
    "dict = {'0':'Zero','10':'Ten','20':'Twenty','30':'Thirty','40':'Forty','50':'Fifty',\\\n",
    "          '60':'Sixty','70':'Seventy','80':'Eighty','90':'Ninety','100':'One Hundred'}\n",
    "dict"
   ]
  },
  {
   "cell_type": "code",
   "execution_count": 2,
   "metadata": {},
   "outputs": [
    {
     "name": "stdout",
     "output_type": "stream",
     "text": [
      "Enter a number or press (q) to quit: 2404\n",
      "Enter a number or press (q) to quit: 300\n",
      "Enter a number or press (q) to quit: 80\n",
      "Enter a number or press (q) to quit: q\n"
     ]
    }
   ],
   "source": [
    "while True:\n",
    "    i = str(input(\"Enter a number or press (q) to quit: \"))\n",
    "    if i == 'q':\n",
    "        break\n",
    "    \n",
    "    if i == '{}':\n",
    "        str(input(\"Enter a number or press (q) to quit: \"))\n",
    "        print(dict['{}'])\n",
    "    \n",
    "    if i == 'w':\n",
    "        str(input(\"Enter the value or press (q) to quit: \"))\n",
    "        print(dict['{}'])"
   ]
  },
  {
   "cell_type": "code",
   "execution_count": 4,
   "metadata": {},
   "outputs": [
    {
     "name": "stdout",
     "output_type": "stream",
     "text": [
      "\n",
      "Welcome to The Dictionary! Enter a number to begin. (q) exits this program: \n",
      "10\n",
      "10 is in The Dictionary as Ten\n",
      "\n",
      "Welcome to The Dictionary! Enter a number to begin. (q) exits this program: \n",
      "10\n",
      "10 is in The Dictionary as Ten\n",
      "\n",
      "Welcome to The Dictionary! Enter a number to begin. (q) exits this program: \n",
      "20\n",
      "20 is in The Dictionary as Twenty\n",
      "\n",
      "Welcome to The Dictionary! Enter a number to begin. (q) exits this program: \n",
      "40\n",
      "40 is in The Dictionary as Forty\n",
      "\n",
      "Welcome to The Dictionary! Enter a number to begin. (q) exits this program: \n",
      "65\n",
      "I don't have 65 defined in my memory bank. What is it, please?\n",
      "sixty-five\n",
      "\n",
      "Data Updated. 65 as sixty-five has been added to The Dictionary. Thank you kindly.\n",
      "\n",
      "Welcome to The Dictionary! Enter a number to begin. (q) exits this program: \n",
      "70\n",
      "70 is in The Dictionary as Seventy\n",
      "\n",
      "Welcome to The Dictionary! Enter a number to begin. (q) exits this program: \n",
      "88\n",
      "I don't have 88 defined in my memory bank. What is it, please?\n",
      "Eighty-eight\n",
      "\n",
      "Data Updated. 88 as Eighty-eight has been added to The Dictionary. Thank you kindly.\n",
      "\n",
      "Welcome to The Dictionary! Enter a number to begin. (q) exits this program: \n",
      "q\n"
     ]
    }
   ],
   "source": [
    "while True:\n",
    "   \n",
    "    print(\"\\nWelcome to The Dictionary! Enter a number to begin. (q) exits this program: \")\n",
    "    number = input()\n",
    "    if number == 'q':\n",
    "        break \n",
    "\n",
    "    if number in dict:\n",
    "        print(number + \" is in The Dictionary as \" + dict[number])\n",
    "\n",
    "    else:\n",
    "        print(\"I don\\'t have \" + number + \" defined in my memory bank. What is it, please?\")\n",
    "        newnumber = input()\n",
    "        dict[number] = newnumber\n",
    "        print(\"\\nData Updated. \" + number + \" as \" + dict[number] + \" has been added to The Dictionary. Thank you kindly.\")"
   ]
  },
  {
   "cell_type": "code",
   "execution_count": 5,
   "metadata": {},
   "outputs": [
    {
     "data": {
      "text/plain": [
       "{'0': 'Zero',\n",
       " '10': 'Ten',\n",
       " '20': 'Twenty',\n",
       " '30': 'Thirty',\n",
       " '40': 'Forty',\n",
       " '50': 'Fifty',\n",
       " '60': 'Sixty',\n",
       " '70': 'Seventy',\n",
       " '80': 'Eighty',\n",
       " '90': 'Ninety',\n",
       " '100': 'One Hundred',\n",
       " '65': 'sixty-five',\n",
       " '88': 'Eighty-eight'}"
      ]
     },
     "execution_count": 5,
     "metadata": {},
     "output_type": "execute_result"
    }
   ],
   "source": [
    "#Calling on the dictionary\n",
    "\n",
    "dict"
   ]
  },
  {
   "cell_type": "code",
   "execution_count": null,
   "metadata": {},
   "outputs": [],
   "source": []
  }
 ],
 "metadata": {
  "kernelspec": {
   "display_name": "Python 3",
   "language": "python",
   "name": "python3"
  },
  "language_info": {
   "codemirror_mode": {
    "name": "ipython",
    "version": 3
   },
   "file_extension": ".py",
   "mimetype": "text/x-python",
   "name": "python",
   "nbconvert_exporter": "python",
   "pygments_lexer": "ipython3",
   "version": "3.7.3"
  }
 },
 "nbformat": 4,
 "nbformat_minor": 2
}
