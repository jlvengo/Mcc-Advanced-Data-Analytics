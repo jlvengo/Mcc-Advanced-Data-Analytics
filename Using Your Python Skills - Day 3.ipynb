{
 "cells": [
  {
   "cell_type": "markdown",
   "metadata": {},
   "source": [
    "#Using your Python Skills\n",
    "\n",
    "while True:\n",
    "    answer = input(\"Enter a movie you like or press 'q' to quit: \")\n",
    "    if answer.lower () == 'q':\n",
    "        break\n",
    "    else:\n",
    "        print(\"You entered \" + answer)\n",
    "\n",
    "\n",
    "Using Random Numbers\n",
    "import random\n",
    "* select a random between the lower and upper bound(inclusive)\n",
    "* run it many times and see if you return the lower/upper\n",
    "#lower = 0\n",
    "upper = 10\n",
    "rnd = random.randint(lower, upper)\n",
    "print(rnd)"
   ]
  },
  {
   "cell_type": "code",
   "execution_count": 13,
   "metadata": {},
   "outputs": [
    {
     "name": "stdout",
     "output_type": "stream",
     "text": [
      "Guess a number between 0 and 100, You have 3 chances: 33\n",
      "wrong\n",
      "Guess a number between 0 and 100, You have 3 chances: 65\n",
      "wrong\n",
      "Guess a number between 0 and 100, You have 3 chances: 90\n",
      "wrong\n",
      "You lost, dummy! 4 was the answer all along!\n"
     ]
    }
   ],
   "source": [
    "\n",
    "count = 0\n",
    "\n",
    "while True:\n",
    "    if count == 3:\n",
    "        print(\"You lost, dummy!\", rnd, \"was the answer all along!\")\n",
    "        break\n",
    "\n",
    "        \n",
    "    else:\n",
    "        current = 3\n",
    "        i = int(input(\"Guess a number between 0 and 100, You have {} chances: \".format(current)))\n",
    "        \n",
    "        if i == rnd:\n",
    "            print(\"That's correct!\")\n",
    "            break\n",
    "            \n",
    "        if i != rnd:\n",
    "            print('wrong')\n",
    "            count +=1\n",
    "\n",
    "    "
   ]
  }
 ],
 "metadata": {
  "kernelspec": {
   "display_name": "Python 3",
   "language": "python",
   "name": "python3"
  },
  "language_info": {
   "codemirror_mode": {
    "name": "ipython",
    "version": 3
   },
   "file_extension": ".py",
   "mimetype": "text/x-python",
   "name": "python",
   "nbconvert_exporter": "python",
   "pygments_lexer": "ipython3",
   "version": "3.7.3"
  }
 },
 "nbformat": 4,
 "nbformat_minor": 2
}
